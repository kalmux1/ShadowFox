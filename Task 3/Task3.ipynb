{
 "cells": [
  {
   "cell_type": "code",
   "execution_count": 15,
   "id": "0a16bb48-a726-411f-98ec-10d168c2e69f",
   "metadata": {},
   "outputs": [],
   "source": [
    "# Exploring GPT-2 for NLP Tasks\n"
   ]
  },
  {
   "cell_type": "code",
   "execution_count": 19,
   "id": "9d3889d6-43f7-42c1-8d0f-b3e0aed863fa",
   "metadata": {},
   "outputs": [
    {
     "name": "stdout",
     "output_type": "stream",
     "text": [
      "Requirement already satisfied: transformers in c:\\users\\nitin jaiswal\\appdata\\local\\programs\\python\\python312\\lib\\site-packages (4.42.3)\n",
      "Requirement already satisfied: torch in c:\\users\\nitin jaiswal\\appdata\\local\\programs\\python\\python312\\lib\\site-packages (2.3.1)\n",
      "Requirement already satisfied: matplotlib in c:\\users\\nitin jaiswal\\appdata\\local\\programs\\python\\python312\\lib\\site-packages (3.9.0)\n",
      "Requirement already satisfied: filelock in c:\\users\\nitin jaiswal\\appdata\\local\\programs\\python\\python312\\lib\\site-packages (from transformers) (3.15.4)\n",
      "Requirement already satisfied: huggingface-hub<1.0,>=0.23.2 in c:\\users\\nitin jaiswal\\appdata\\local\\programs\\python\\python312\\lib\\site-packages (from transformers) (0.23.4)\n",
      "Requirement already satisfied: numpy<2.0,>=1.17 in c:\\users\\nitin jaiswal\\appdata\\local\\programs\\python\\python312\\lib\\site-packages (from transformers) (1.26.4)\n",
      "Requirement already satisfied: packaging>=20.0 in c:\\users\\nitin jaiswal\\appdata\\local\\programs\\python\\python312\\lib\\site-packages (from transformers) (24.1)\n",
      "Requirement already satisfied: pyyaml>=5.1 in c:\\users\\nitin jaiswal\\appdata\\local\\programs\\python\\python312\\lib\\site-packages (from transformers) (6.0.1)\n",
      "Requirement already satisfied: regex!=2019.12.17 in c:\\users\\nitin jaiswal\\appdata\\local\\programs\\python\\python312\\lib\\site-packages (from transformers) (2024.5.15)\n",
      "Requirement already satisfied: requests in c:\\users\\nitin jaiswal\\appdata\\local\\programs\\python\\python312\\lib\\site-packages (from transformers) (2.31.0)\n",
      "Requirement already satisfied: safetensors>=0.4.1 in c:\\users\\nitin jaiswal\\appdata\\local\\programs\\python\\python312\\lib\\site-packages (from transformers) (0.4.3)\n",
      "Requirement already satisfied: tokenizers<0.20,>=0.19 in c:\\users\\nitin jaiswal\\appdata\\local\\programs\\python\\python312\\lib\\site-packages (from transformers) (0.19.1)\n",
      "Requirement already satisfied: tqdm>=4.27 in c:\\users\\nitin jaiswal\\appdata\\local\\programs\\python\\python312\\lib\\site-packages (from transformers) (4.66.4)\n",
      "Requirement already satisfied: typing-extensions>=4.8.0 in c:\\users\\nitin jaiswal\\appdata\\local\\programs\\python\\python312\\lib\\site-packages (from torch) (4.10.0)\n",
      "Requirement already satisfied: sympy in c:\\users\\nitin jaiswal\\appdata\\local\\programs\\python\\python312\\lib\\site-packages (from torch) (1.12.1)\n",
      "Requirement already satisfied: networkx in c:\\users\\nitin jaiswal\\appdata\\local\\programs\\python\\python312\\lib\\site-packages (from torch) (3.3)\n",
      "Requirement already satisfied: jinja2 in c:\\users\\nitin jaiswal\\appdata\\local\\programs\\python\\python312\\lib\\site-packages (from torch) (3.1.4)\n",
      "Requirement already satisfied: fsspec in c:\\users\\nitin jaiswal\\appdata\\local\\programs\\python\\python312\\lib\\site-packages (from torch) (2024.6.1)\n",
      "Requirement already satisfied: mkl<=2021.4.0,>=2021.1.1 in c:\\users\\nitin jaiswal\\appdata\\local\\programs\\python\\python312\\lib\\site-packages (from torch) (2021.4.0)\n",
      "Requirement already satisfied: contourpy>=1.0.1 in c:\\users\\nitin jaiswal\\appdata\\local\\programs\\python\\python312\\lib\\site-packages (from matplotlib) (1.2.1)\n",
      "Requirement already satisfied: cycler>=0.10 in c:\\users\\nitin jaiswal\\appdata\\local\\programs\\python\\python312\\lib\\site-packages (from matplotlib) (0.12.1)\n",
      "Requirement already satisfied: fonttools>=4.22.0 in c:\\users\\nitin jaiswal\\appdata\\local\\programs\\python\\python312\\lib\\site-packages (from matplotlib) (4.53.0)\n",
      "Requirement already satisfied: kiwisolver>=1.3.1 in c:\\users\\nitin jaiswal\\appdata\\local\\programs\\python\\python312\\lib\\site-packages (from matplotlib) (1.4.5)\n",
      "Requirement already satisfied: pillow>=8 in c:\\users\\nitin jaiswal\\appdata\\local\\programs\\python\\python312\\lib\\site-packages (from matplotlib) (10.3.0)\n",
      "Requirement already satisfied: pyparsing>=2.3.1 in c:\\users\\nitin jaiswal\\appdata\\local\\programs\\python\\python312\\lib\\site-packages (from matplotlib) (3.1.2)\n",
      "Requirement already satisfied: python-dateutil>=2.7 in c:\\users\\nitin jaiswal\\appdata\\local\\programs\\python\\python312\\lib\\site-packages (from matplotlib) (2.9.0.post0)\n",
      "Requirement already satisfied: intel-openmp==2021.* in c:\\users\\nitin jaiswal\\appdata\\local\\programs\\python\\python312\\lib\\site-packages (from mkl<=2021.4.0,>=2021.1.1->torch) (2021.4.0)\n",
      "Requirement already satisfied: tbb==2021.* in c:\\users\\nitin jaiswal\\appdata\\local\\programs\\python\\python312\\lib\\site-packages (from mkl<=2021.4.0,>=2021.1.1->torch) (2021.13.0)\n",
      "Requirement already satisfied: six>=1.5 in c:\\users\\nitin jaiswal\\appdata\\local\\programs\\python\\python312\\lib\\site-packages (from python-dateutil>=2.7->matplotlib) (1.16.0)\n",
      "Requirement already satisfied: colorama in c:\\users\\nitin jaiswal\\appdata\\local\\programs\\python\\python312\\lib\\site-packages (from tqdm>=4.27->transformers) (0.4.6)\n",
      "Requirement already satisfied: MarkupSafe>=2.0 in c:\\users\\nitin jaiswal\\appdata\\local\\programs\\python\\python312\\lib\\site-packages (from jinja2->torch) (2.1.5)\n",
      "Requirement already satisfied: charset-normalizer<4,>=2 in c:\\users\\nitin jaiswal\\appdata\\local\\programs\\python\\python312\\lib\\site-packages (from requests->transformers) (3.3.2)\n",
      "Requirement already satisfied: idna<4,>=2.5 in c:\\users\\nitin jaiswal\\appdata\\local\\programs\\python\\python312\\lib\\site-packages (from requests->transformers) (3.6)\n",
      "Requirement already satisfied: urllib3<3,>=1.21.1 in c:\\users\\nitin jaiswal\\appdata\\local\\programs\\python\\python312\\lib\\site-packages (from requests->transformers) (2.2.1)\n",
      "Requirement already satisfied: certifi>=2017.4.17 in c:\\users\\nitin jaiswal\\appdata\\local\\programs\\python\\python312\\lib\\site-packages (from requests->transformers) (2024.2.2)\n",
      "Requirement already satisfied: mpmath<1.4.0,>=1.1.0 in c:\\users\\nitin jaiswal\\appdata\\local\\programs\\python\\python312\\lib\\site-packages (from sympy->torch) (1.3.0)\n"
     ]
    }
   ],
   "source": [
    "# Install necessary libraries\n",
    "!pip install transformers torch matplotlib\n"
   ]
  },
  {
   "cell_type": "code",
   "execution_count": 5,
   "id": "79ee1e1f-b2d0-46f2-92d5-29645abf6743",
   "metadata": {},
   "outputs": [],
   "source": [
    "from transformers import GPT2LMHeadModel, GPT2Tokenizer\n",
    "\n",
    "# Load the pre-trained GPT-2 model and tokenizer\n",
    "model_name = 'gpt2'\n",
    "model = GPT2LMHeadModel.from_pretrained(model_name)\n",
    "tokenizer = GPT2Tokenizer.from_pretrained(model_name)\n"
   ]
  },
  {
   "cell_type": "code",
   "execution_count": 8,
   "id": "d7eb9329-d362-423a-971b-e2ab9f655c83",
   "metadata": {},
   "outputs": [
    {
     "name": "stderr",
     "output_type": "stream",
     "text": [
      "The attention mask and the pad token id were not set. As a consequence, you may observe unexpected behavior. Please pass your input's `attention_mask` to obtain reliable results.\n",
      "Setting `pad_token_id` to `eos_token_id`:50256 for open-end generation.\n"
     ]
    },
    {
     "name": "stdout",
     "output_type": "stream",
     "text": [
      "Prompt: As a Python development intern, my final task is\n",
      "Generated Text: As a Python development intern, my final task is to write a Python script that will run on the server.\n",
      "\n",
      "The script will run on the server using the following configuration:\n",
      "\n",
      "python setup.py install\n",
      "\n",
      "The script will run on\n"
     ]
    }
   ],
   "source": [
    "# Function to generate text\n",
    "def generate_text(prompt, max_length=50):\n",
    "    input_ids = tokenizer.encode(prompt, return_tensors='pt')\n",
    "    output = model.generate(input_ids, max_length=max_length, num_return_sequences=1)\n",
    "    generated_text = tokenizer.decode(output[0], skip_special_tokens=True)\n",
    "    return generated_text\n",
    "\n",
    "# Example text generation\n",
    "prompt = \"As a Python development intern, my final task is\"\n",
    "generated_text = generate_text(prompt)\n",
    "print(\"Prompt:\", prompt)\n",
    "print(\"Generated Text:\", generated_text)\n"
   ]
  },
  {
   "cell_type": "code",
   "execution_count": 9,
   "id": "830a9927-8570-410d-8534-31f4aaff781c",
   "metadata": {},
   "outputs": [
    {
     "name": "stderr",
     "output_type": "stream",
     "text": [
      "The attention mask and the pad token id were not set. As a consequence, you may observe unexpected behavior. Please pass your input's `attention_mask` to obtain reliable results.\n",
      "Setting `pad_token_id` to `eos_token_id`:50256 for open-end generation.\n",
      "The attention mask and the pad token id were not set. As a consequence, you may observe unexpected behavior. Please pass your input's `attention_mask` to obtain reliable results.\n",
      "Setting `pad_token_id` to `eos_token_id`:50256 for open-end generation.\n"
     ]
    },
    {
     "name": "stdout",
     "output_type": "stream",
     "text": [
      "Prompt: As a Python development intern, my responsibilities include\n",
      "Generated Text: As a Python development intern, my responsibilities include:\n",
      "\n",
      "Developing Python code\n",
      "\n",
      "Writing code for Python\n",
      "\n",
      "Writing code for Python testing\n",
      "\n",
      "Writing code for Python testing testing\n",
      "\n",
      "Writing code for Python testing testing\n",
      "\n",
      "Writing code for\n",
      "\n"
     ]
    },
    {
     "name": "stderr",
     "output_type": "stream",
     "text": [
      "The attention mask and the pad token id were not set. As a consequence, you may observe unexpected behavior. Please pass your input's `attention_mask` to obtain reliable results.\n",
      "Setting `pad_token_id` to `eos_token_id`:50256 for open-end generation.\n"
     ]
    },
    {
     "name": "stdout",
     "output_type": "stream",
     "text": [
      "Prompt: The most challenging part of my internship is\n",
      "Generated Text: The most challenging part of my internship is the fact that I have to work with a lot of people who are not in the same boat. I have to be able to work with people who are not in the same boat. I have to be able\n",
      "\n"
     ]
    },
    {
     "name": "stderr",
     "output_type": "stream",
     "text": [
      "The attention mask and the pad token id were not set. As a consequence, you may observe unexpected behavior. Please pass your input's `attention_mask` to obtain reliable results.\n",
      "Setting `pad_token_id` to `eos_token_id`:50256 for open-end generation.\n"
     ]
    },
    {
     "name": "stdout",
     "output_type": "stream",
     "text": [
      "Prompt: To improve my Python skills, I plan to\n",
      "Generated Text: To improve my Python skills, I plan to write a Python script that will help you to write your own Python script.\n",
      "\n",
      "I'm going to use Python 2.7.0.\n",
      "\n",
      "I'm going to use Python 2.7.\n",
      "\n"
     ]
    },
    {
     "name": "stderr",
     "output_type": "stream",
     "text": [
      "The attention mask and the pad token id were not set. As a consequence, you may observe unexpected behavior. Please pass your input's `attention_mask` to obtain reliable results.\n",
      "Setting `pad_token_id` to `eos_token_id`:50256 for open-end generation.\n"
     ]
    },
    {
     "name": "stdout",
     "output_type": "stream",
     "text": [
      "Prompt: One of the projects I'm working on involves\n",
      "Generated Text: One of the projects I'm working on involves a new way to create a new type of data structure.\n",
      "\n",
      "The first thing I want to do is create a new type of data structure.\n",
      "\n",
      "The first thing I want to do is create\n",
      "\n",
      "Prompt: In the future, I hope to\n",
      "Generated Text: In the future, I hope to see more of these types of games.\n",
      "\n",
      "I'm not sure if I'll be able to play them, but I'm sure I'll be able to play them.\n",
      "\n",
      "I'm not sure if I\n",
      "\n"
     ]
    }
   ],
   "source": [
    "# Sample inputs for exploration\n",
    "prompts = [\n",
    "    \"As a Python development intern, my responsibilities include\",\n",
    "    \"The most challenging part of my internship is\",\n",
    "    \"To improve my Python skills, I plan to\",\n",
    "    \"One of the projects I'm working on involves\",\n",
    "    \"In the future, I hope to\"\n",
    "]\n",
    "\n",
    "# Generate and analyze text for each prompt\n",
    "for prompt in prompts:\n",
    "    generated_text = generate_text(prompt)\n",
    "    print(f\"Prompt: {prompt}\")\n",
    "    print(f\"Generated Text: {generated_text}\\n\")\n"
   ]
  },
  {
   "cell_type": "code",
   "execution_count": 10,
   "id": "aeb8cf45-5d8a-481d-b2f0-eafa62a4f615",
   "metadata": {},
   "outputs": [],
   "source": [
    "# Research Questions\n",
    "\n",
    "# 1. How well does GPT-2 handle prompts related to a Python development internship?\n",
    "# 2. What is the creativity level of GPT-2 in generating internship-related text?\n",
    "# 3. How does GPT-2 perform in generating text for specific professional contexts?\n",
    "# 4. What are the limitations of GPT-2 in understanding internship-related contexts?\n"
   ]
  },
  {
   "cell_type": "code",
   "execution_count": 11,
   "id": "dc430985-d505-4335-8c9b-d7b3d342c03b",
   "metadata": {},
   "outputs": [
    {
     "data": {
      "image/png": "[encoded data removed]",
      "text/plain": [
       "<Figure size 640x480 with 1 Axes>"
      ]
     },
     "metadata": {},
     "output_type": "display_data"
    }
   ],
   "source": [
    "import matplotlib.pyplot as plt\n",
    "\n",
    "# Example: Token length vs. Generation time\n",
    "token_lengths = [10, 20, 30, 40, 50]\n",
    "generation_times = [0.5, 1.2, 2.1, 3.5, 5.0]\n",
    "\n",
    "plt.plot(token_lengths, generation_times, marker='o')\n",
    "plt.xlabel('Token Length')\n",
    "plt.ylabel('Generation Time (s)')\n",
    "plt.title('Generation Time vs. Token Length')\n",
    "plt.show()\n"
   ]
  },
  {
   "cell_type": "code",
   "execution_count": 20,
   "id": "6668b76a-cc4e-4f0e-8997-a98aab2600eb",
   "metadata": {},
   "outputs": [],
   "source": [
    "# Ethical Considerations and Best Practices\n",
    "\n",
    "# - Ensure the use of GPT-2 aligns with ethical AI guidelines.\n",
    "# - Avoid generating harmful or biased content.\n",
    "# - Follow best practices in coding, documentation, and model evaluation.\n"
   ]
  },
  {
   "cell_type": "code",
   "execution_count": null,
   "id": "45f73676-8997-4e51-9a5b-db2d34edb8d5",
   "metadata": {},
   "outputs": [],
   "source": [
    "# Conclusion and Insights\n",
    "\n",
    "# - Summarize the key findings from the exploration and analysis.\n",
    "# - Discuss the potential applications of GPT-2 in various NLP tasks, especially in professional settings like internships.\n",
    "# - Highlight the limitations and areas for improvement in GPT-2.\n",
    "# - Reflect on the broader implications of GPT-2 in the field of AI and NLP.\n"
   ]
  }
 ],
 "metadata": {
  "kernelspec": {
   "display_name": "Python 3 (ipykernel)",
   "language": "python",
   "name": "python3"
  },
  "language_info": {
   "codemirror_mode": {
    "name": "ipython",
    "version": 3
   },
   "file_extension": ".py",
   "mimetype": "text/x-python",
   "name": "python",
   "nbconvert_exporter": "python",
   "pygments_lexer": "ipython3",
   "version": "3.12.1"
  }
 },
 "nbformat": 4,
 "nbformat_minor": 5
}
